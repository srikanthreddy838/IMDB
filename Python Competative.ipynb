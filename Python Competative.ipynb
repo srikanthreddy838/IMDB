{
  "nbformat": 4,
  "nbformat_minor": 0,
  "metadata": {
    "colab": {
      "provenance": [],
      "authorship_tag": "ABX9TyP6c1QIuSOFhNLdQ/QLAMlU",
      "include_colab_link": true
    },
    "kernelspec": {
      "name": "python3",
      "display_name": "Python 3"
    },
    "language_info": {
      "name": "python"
    }
  },
  "cells": [
    {
      "cell_type": "markdown",
      "metadata": {
        "id": "view-in-github",
        "colab_type": "text"
      },
      "source": [
        "<a href=\"https://colab.research.google.com/github/srikanthreddy838/IMDB/blob/main/Python%20Competative.ipynb\" target=\"_parent\"><img src=\"https://colab.research.google.com/assets/colab-badge.svg\" alt=\"Open In Colab\"/></a>"
      ]
    },
    {
      "cell_type": "code",
      "execution_count": 1,
      "metadata": {
        "colab": {
          "base_uri": "https://localhost:8080/"
        },
        "id": "GwgqQoTTX6D_",
        "outputId": "da1f26ff-5940-44de-a47f-054241c4d8e2"
      },
      "outputs": [
        {
          "output_type": "stream",
          "name": "stdout",
          "text": [
            "1\n"
          ]
        }
      ],
      "source": [
        "a=1\n",
        "print(a)"
      ]
    },
    {
      "cell_type": "code",
      "source": [],
      "metadata": {
        "id": "QabkIZPJYD2Z"
      },
      "execution_count": 26,
      "outputs": []
    },
    {
      "cell_type": "code",
      "source": [
        "s=1\n",
        "print(s)"
      ],
      "metadata": {
        "colab": {
          "base_uri": "https://localhost:8080/"
        },
        "id": "RXiEtwVeYEFx",
        "outputId": "ae05ad6d-a235-4f38-a2d4-b936457e2af8"
      },
      "execution_count": 3,
      "outputs": [
        {
          "output_type": "stream",
          "name": "stdout",
          "text": [
            "1\n"
          ]
        }
      ]
    },
    {
      "cell_type": "code",
      "source": [
        "s=153\n",
        "a1=0\n",
        "\n",
        "while s>0:\n",
        "  a=s%10\n",
        "  a1=a1+(a**3)\n",
        "  s=s//10\n",
        "print(a1)\n",
        "\n",
        "\n"
      ],
      "metadata": {
        "colab": {
          "base_uri": "https://localhost:8080/"
        },
        "id": "cDQo2lUMYEHW",
        "outputId": "8f75604b-581b-41f4-dc55-453055ebfa99"
      },
      "execution_count": 15,
      "outputs": [
        {
          "output_type": "stream",
          "name": "stdout",
          "text": [
            "153\n"
          ]
        }
      ]
    },
    {
      "cell_type": "code",
      "source": [
        "s=1533\n",
        "a=0\n",
        "while s>0 or a>9:\n",
        "  if s==0:\n",
        "    s=a\n",
        "    a=0\n",
        "  ss=s%10\n",
        "  a=a+ss\n",
        "  s=s//10\n",
        "print(a)\n"
      ],
      "metadata": {
        "colab": {
          "base_uri": "https://localhost:8080/"
        },
        "id": "NXTvBpUPYEMk",
        "outputId": "a41a4c52-d527-4097-fded-8e72cd8012a4"
      },
      "execution_count": 19,
      "outputs": [
        {
          "output_type": "stream",
          "name": "stdout",
          "text": [
            "3\n"
          ]
        }
      ]
    },
    {
      "cell_type": "code",
      "source": [
        "123%10"
      ],
      "metadata": {
        "colab": {
          "base_uri": "https://localhost:8080/"
        },
        "id": "xz94IZjeYEOO",
        "outputId": "0331689e-2422-4d6a-a88d-279951afc1ac"
      },
      "execution_count": 8,
      "outputs": [
        {
          "output_type": "execute_result",
          "data": {
            "text/plain": [
              "3"
            ]
          },
          "metadata": {},
          "execution_count": 8
        }
      ]
    },
    {
      "cell_type": "code",
      "source": [
        "3**3"
      ],
      "metadata": {
        "colab": {
          "base_uri": "https://localhost:8080/"
        },
        "id": "nb3ST-jWYESh",
        "outputId": "05ea8c87-aff8-4837-bc78-2d0e3399a144"
      },
      "execution_count": 10,
      "outputs": [
        {
          "output_type": "execute_result",
          "data": {
            "text/plain": [
              "27"
            ]
          },
          "metadata": {},
          "execution_count": 10
        }
      ]
    },
    {
      "cell_type": "code",
      "source": [
        "n=4\n",
        "for i in range(n):\n",
        "  for j in range(n):\n",
        "    print('*',end='')\n",
        "  print()"
      ],
      "metadata": {
        "colab": {
          "base_uri": "https://localhost:8080/"
        },
        "id": "5ddwIFdUyA82",
        "outputId": "460a8ea0-9287-4562-b853-24087d39a64d"
      },
      "execution_count": 21,
      "outputs": [
        {
          "output_type": "stream",
          "name": "stdout",
          "text": [
            "****\n",
            "****\n",
            "****\n",
            "****\n"
          ]
        }
      ]
    },
    {
      "cell_type": "code",
      "source": [
        "n=4\n",
        "for i in range(n+1):\n",
        "  for j in range(i):\n",
        "    print('*',end='')\n",
        "  print()"
      ],
      "metadata": {
        "colab": {
          "base_uri": "https://localhost:8080/"
        },
        "id": "qydDDSl00nsW",
        "outputId": "409340ce-cf42-4c71-ac16-ce16166fe58e"
      },
      "execution_count": 23,
      "outputs": [
        {
          "output_type": "stream",
          "name": "stdout",
          "text": [
            "\n",
            "*\n",
            "**\n",
            "***\n",
            "****\n"
          ]
        }
      ]
    },
    {
      "cell_type": "code",
      "source": [
        "s=[1,2,3,4,5,6]\n",
        "max=s[0]\n",
        "for i in range(1,len(s)):\n",
        "  if s[i]>max:\n",
        "    max=s[i]\n",
        "print(max)"
      ],
      "metadata": {
        "colab": {
          "base_uri": "https://localhost:8080/"
        },
        "id": "rntwXAMt1XxI",
        "outputId": "5fb41f58-4499-4a30-c607-96d3b304a7c8"
      },
      "execution_count": 24,
      "outputs": [
        {
          "output_type": "stream",
          "name": "stdout",
          "text": [
            "6\n"
          ]
        }
      ]
    },
    {
      "cell_type": "code",
      "source": [
        "s=[100,29,30,40,50,60]\n",
        "min=s[0]\n",
        "for i in range(1,len(s)):\n",
        "  if s[i]<min:\n",
        "    min=s[i]\n",
        "print(min)"
      ],
      "metadata": {
        "colab": {
          "base_uri": "https://localhost:8080/"
        },
        "id": "Y51vUiyW1X1u",
        "outputId": "33e1e5f6-662a-4003-be47-6ee81984f61a"
      },
      "execution_count": 26,
      "outputs": [
        {
          "output_type": "stream",
          "name": "stdout",
          "text": [
            "29\n"
          ]
        }
      ]
    },
    {
      "cell_type": "code",
      "source": [
        "n=4\n",
        "for i in range(n+1):\n",
        "  print(' '*(n-i-1)+' *'*i)"
      ],
      "metadata": {
        "colab": {
          "base_uri": "https://localhost:8080/"
        },
        "id": "ofJlIJuH1X3Y",
        "outputId": "33b33fd5-ed02-4acf-bba4-2fbc46a92e06"
      },
      "execution_count": 35,
      "outputs": [
        {
          "output_type": "stream",
          "name": "stdout",
          "text": [
            "   \n",
            "   *\n",
            "  * *\n",
            " * * *\n",
            " * * * *\n"
          ]
        }
      ]
    },
    {
      "cell_type": "code",
      "source": [
        "n=4\n",
        "for i in range(n+1):\n",
        "  print(' '*(n-i-1)+'* '*i)"
      ],
      "metadata": {
        "colab": {
          "base_uri": "https://localhost:8080/"
        },
        "id": "fbQWD4-g5arP",
        "outputId": "a34041c7-7fb1-4174-ba2a-fba117c7e84a"
      },
      "execution_count": 39,
      "outputs": [
        {
          "output_type": "stream",
          "name": "stdout",
          "text": [
            "   \n",
            "  * \n",
            " * * \n",
            "* * * \n",
            "* * * * \n"
          ]
        }
      ]
    },
    {
      "cell_type": "code",
      "source": [
        "n=4\n",
        "for i in range(n):\n",
        "  print(' '*(n-i-1)+'*'*i)"
      ],
      "metadata": {
        "colab": {
          "base_uri": "https://localhost:8080/"
        },
        "id": "HZKCcfk_5nva",
        "outputId": "6ed136a8-f758-4aae-f488-31e027271eae"
      },
      "execution_count": 40,
      "outputs": [
        {
          "output_type": "stream",
          "name": "stdout",
          "text": [
            "   \n",
            "  *\n",
            " **\n",
            "***\n"
          ]
        }
      ]
    },
    {
      "cell_type": "code",
      "source": [
        "n=4\n",
        "for i in range(n):\n",
        "  print('*'*(n-i))"
      ],
      "metadata": {
        "colab": {
          "base_uri": "https://localhost:8080/"
        },
        "id": "mYv-9XDS5oF0",
        "outputId": "23be4984-8aa9-4c88-bd35-121b69c6966b"
      },
      "execution_count": 42,
      "outputs": [
        {
          "output_type": "stream",
          "name": "stdout",
          "text": [
            "****\n",
            "***\n",
            "**\n",
            "*\n"
          ]
        }
      ]
    },
    {
      "cell_type": "code",
      "source": [
        "n=4\n",
        "for i in range(n):\n",
        "  for j in range(n-i):\n",
        "    print('*',end='')\n",
        "  print()"
      ],
      "metadata": {
        "colab": {
          "base_uri": "https://localhost:8080/"
        },
        "id": "F9lr_4QI6pYK",
        "outputId": "56fb619d-0c59-4878-9346-ddfe3534dae3"
      },
      "execution_count": 43,
      "outputs": [
        {
          "output_type": "stream",
          "name": "stdout",
          "text": [
            "****\n",
            "***\n",
            "**\n",
            "*\n"
          ]
        }
      ]
    },
    {
      "cell_type": "code",
      "source": [
        "n=4\n",
        "for i in range(n):\n",
        "  for j in range(i+1):\n",
        "    print('*',end='')\n",
        "  print()"
      ],
      "metadata": {
        "colab": {
          "base_uri": "https://localhost:8080/"
        },
        "id": "HK0VazcT6pZx",
        "outputId": "bfd7dbb8-7875-433c-e4fc-790e14ce796f"
      },
      "execution_count": 51,
      "outputs": [
        {
          "output_type": "stream",
          "name": "stdout",
          "text": [
            "*\n",
            "**\n",
            "***\n",
            "****\n"
          ]
        }
      ]
    },
    {
      "cell_type": "code",
      "source": [
        "n=4\n",
        "for i in range(n+1):\n",
        "  print('*'*i)"
      ],
      "metadata": {
        "colab": {
          "base_uri": "https://localhost:8080/"
        },
        "id": "H3Ed917J3Yya",
        "outputId": "d9348381-014c-4b21-a0bd-72a485130bac"
      },
      "execution_count": 33,
      "outputs": [
        {
          "output_type": "stream",
          "name": "stdout",
          "text": [
            "\n",
            "*\n",
            "**\n",
            "***\n",
            "****\n"
          ]
        }
      ]
    },
    {
      "cell_type": "code",
      "source": [
        "n=4\n",
        "for i in range(n):\n",
        "  for j in range(n-i-1):\n",
        "    print(' ',end='')\n",
        "  for j in range(i+1):\n",
        "    print('*',end='')\n",
        "  print()"
      ],
      "metadata": {
        "colab": {
          "base_uri": "https://localhost:8080/"
        },
        "id": "UgSRSu8N7yu1",
        "outputId": "89cf0bd9-d718-4e88-cf29-82d63b13737b"
      },
      "execution_count": 55,
      "outputs": [
        {
          "output_type": "stream",
          "name": "stdout",
          "text": [
            "   * \n",
            "  * * \n",
            " * * * \n",
            "* * * * \n"
          ]
        }
      ]
    },
    {
      "cell_type": "code",
      "source": [
        "n=4\n",
        "for i in range(n):\n",
        "  for j in range(n-i-1):\n",
        "    print(' ',end='')\n",
        "  for j in range(i+1):\n",
        "    print('* ',end='')\n",
        "  print()"
      ],
      "metadata": {
        "colab": {
          "base_uri": "https://localhost:8080/"
        },
        "id": "cWjjRYqf7y1W",
        "outputId": "0a70bcab-ca05-42ba-b69a-add820e3a16c"
      },
      "execution_count": 56,
      "outputs": [
        {
          "output_type": "stream",
          "name": "stdout",
          "text": [
            "   * \n",
            "  * * \n",
            " * * * \n",
            "* * * * \n"
          ]
        }
      ]
    },
    {
      "cell_type": "code",
      "source": [
        "n=4\n",
        "for i in range(n):\n",
        "  for j in range(n-i):\n",
        "    print(' *',end='')\n",
        "  print()"
      ],
      "metadata": {
        "colab": {
          "base_uri": "https://localhost:8080/"
        },
        "id": "dSH32cBC93G3",
        "outputId": "459f4ccf-3230-4861-e33a-fc787cb57b29"
      },
      "execution_count": 59,
      "outputs": [
        {
          "output_type": "stream",
          "name": "stdout",
          "text": [
            " * * * *\n",
            " * * *\n",
            " * *\n",
            " *\n"
          ]
        }
      ]
    },
    {
      "cell_type": "code",
      "source": [
        "n=4\n",
        "for i in range(n):\n",
        "  for j in range(i+1):\n",
        "    print(' ',end='')\n",
        "  for j in range(n-i):\n",
        "    print('* ',end=\"\")\n",
        "  print()"
      ],
      "metadata": {
        "colab": {
          "base_uri": "https://localhost:8080/"
        },
        "id": "5TUlCEwR-Gq4",
        "outputId": "65558812-4893-40ec-f43b-793e7ea87daa"
      },
      "execution_count": 61,
      "outputs": [
        {
          "output_type": "stream",
          "name": "stdout",
          "text": [
            " * * * * \n",
            "  * * * \n",
            "   * * \n",
            "    * \n"
          ]
        }
      ]
    },
    {
      "cell_type": "code",
      "source": [
        "n=4\n",
        "for i in range(n):\n",
        "  for j in range(n-i-1):\n",
        "    print(' ',end='')\n",
        "  for j in range(i+1):\n",
        "    print('* ',end='')\n",
        "  print()\n",
        "for i in range(n):\n",
        "  for j in range(i+1):\n",
        "    print(' ',end='')\n",
        "  for j in range(n-i-1):\n",
        "    print('* ',end=\"\")\n",
        "  print()"
      ],
      "metadata": {
        "colab": {
          "base_uri": "https://localhost:8080/"
        },
        "id": "gzMN95jN-Gsb",
        "outputId": "c36915ae-689c-4438-f666-0b485b595e91"
      },
      "execution_count": 65,
      "outputs": [
        {
          "output_type": "stream",
          "name": "stdout",
          "text": [
            "   * \n",
            "  * * \n",
            " * * * \n",
            "* * * * \n",
            " * * * \n",
            "  * * \n",
            "   * \n",
            "    \n"
          ]
        }
      ]
    },
    {
      "cell_type": "code",
      "source": [
        "n=4\n",
        "for i in range(n):\n",
        "  for j in range(n):\n",
        "    print('*',end='')\n",
        "  print()"
      ],
      "metadata": {
        "colab": {
          "base_uri": "https://localhost:8080/"
        },
        "id": "uK-Xtm0d_lDS",
        "outputId": "099031ff-4958-49d7-b97a-78499c95e458"
      },
      "execution_count": 66,
      "outputs": [
        {
          "output_type": "stream",
          "name": "stdout",
          "text": [
            "****\n",
            "****\n",
            "****\n",
            "****\n"
          ]
        }
      ]
    },
    {
      "cell_type": "code",
      "source": [
        "n=4\n",
        "for i in range(n):\n",
        "  for j in range(n):\n",
        "    if i==0 or i==n-1 or j==0 or j==n-1:\n",
        "      print('*',end='')\n",
        "    else:\n",
        "      print('',end='')\n",
        "  print()"
      ],
      "metadata": {
        "colab": {
          "base_uri": "https://localhost:8080/"
        },
        "id": "5q1uXqnz_lE3",
        "outputId": "28e46c51-e14a-4866-afb2-a4473096d6e4"
      },
      "execution_count": 67,
      "outputs": [
        {
          "output_type": "stream",
          "name": "stdout",
          "text": [
            "****\n",
            "**\n",
            "**\n",
            "****\n"
          ]
        }
      ]
    },
    {
      "cell_type": "code",
      "source": [
        "n=4\n",
        "for i in range(n):\n",
        "  for j in range(n):\n",
        "    if i==0 or i==n-1 or i==j:\n",
        "      print('*',end='')\n",
        "    else:\n",
        "      print(' ',end='')\n",
        "  print()"
      ],
      "metadata": {
        "colab": {
          "base_uri": "https://localhost:8080/"
        },
        "id": "LkpyF9VA_lI1",
        "outputId": "b1c9129b-8adc-4fab-d773-fa1973f571a1"
      },
      "execution_count": 71,
      "outputs": [
        {
          "output_type": "stream",
          "name": "stdout",
          "text": [
            "****\n",
            " *  \n",
            "  * \n",
            "****\n"
          ]
        }
      ]
    },
    {
      "cell_type": "code",
      "source": [
        "n=4\n",
        "for i in range(n):\n",
        "  for j in range(n):\n",
        "    if i==0 or i==n-1 or j==1 or j==2:\n",
        "      print('*',end='')\n",
        "    else:\n",
        "      print(' ',end='')\n",
        "  print()"
      ],
      "metadata": {
        "colab": {
          "base_uri": "https://localhost:8080/"
        },
        "id": "Aptvop24AnZA",
        "outputId": "464acbe5-9403-43a6-a256-fc7a1cd661ab"
      },
      "execution_count": 72,
      "outputs": [
        {
          "output_type": "stream",
          "name": "stdout",
          "text": [
            "****\n",
            " ** \n",
            " ** \n",
            "****\n"
          ]
        }
      ]
    },
    {
      "cell_type": "code",
      "source": [
        "n=4\n",
        "for i in range(n):\n",
        "  for j in range(n):\n",
        "    if j==0 or j==n-1 or i==1 or i==2 :\n",
        "      print('*',end='')\n",
        "    else:\n",
        "      print(' ',end='')\n",
        "  print()"
      ],
      "metadata": {
        "colab": {
          "base_uri": "https://localhost:8080/"
        },
        "id": "3eHQZ-qkA6S3",
        "outputId": "d75cc153-1e87-4047-d86c-49e82c08d92e"
      },
      "execution_count": 75,
      "outputs": [
        {
          "output_type": "stream",
          "name": "stdout",
          "text": [
            "*  *\n",
            "****\n",
            "****\n",
            "*  *\n"
          ]
        }
      ]
    },
    {
      "cell_type": "code",
      "source": [
        "n=4\n",
        "for i in range(n):\n",
        "  for j in range(n):\n",
        "    if i==1 or j==1:\n",
        "      print('*',end='')\n",
        "    else:\n",
        "      print(' ',end='')\n",
        "  print()"
      ],
      "metadata": {
        "colab": {
          "base_uri": "https://localhost:8080/"
        },
        "id": "UBBcRpgDC8uW",
        "outputId": "b1600787-aa30-44e7-bea5-eb89838c9f19"
      },
      "execution_count": 79,
      "outputs": [
        {
          "output_type": "stream",
          "name": "stdout",
          "text": [
            " *  \n",
            "****\n",
            " *  \n",
            " *  \n"
          ]
        }
      ]
    },
    {
      "cell_type": "code",
      "source": [
        "n=3\n",
        "def prime(n):\n",
        "  if n==1:\n",
        "    return False\n",
        "  if n==2:\n",
        "    return False\n",
        "  for i in range(2,n):\n",
        "    if n%i==0:\n",
        "      return \"Not prime\"\n",
        "      break\n",
        "  return 'prime'"
      ],
      "metadata": {
        "id": "Pef3Bb4TDYHh"
      },
      "execution_count": 19,
      "outputs": []
    },
    {
      "cell_type": "code",
      "source": [
        "ss=prime(4)\n",
        "print(ss)"
      ],
      "metadata": {
        "colab": {
          "base_uri": "https://localhost:8080/"
        },
        "id": "f-uKBLHLDYJV",
        "outputId": "10581232-8057-4eb0-b7de-eab81348fcdf"
      },
      "execution_count": 21,
      "outputs": [
        {
          "output_type": "stream",
          "name": "stdout",
          "text": [
            "Not prime\n"
          ]
        }
      ]
    },
    {
      "cell_type": "code",
      "source": [
        "5%2"
      ],
      "metadata": {
        "colab": {
          "base_uri": "https://localhost:8080/"
        },
        "id": "hxIZWyO8DYNH",
        "outputId": "b38aac1a-41b2-4783-dc0b-c4572dc7ebf1"
      },
      "execution_count": 84,
      "outputs": [
        {
          "output_type": "execute_result",
          "data": {
            "text/plain": [
              "1"
            ]
          },
          "metadata": {},
          "execution_count": 84
        }
      ]
    },
    {
      "cell_type": "code",
      "source": [
        "5%3"
      ],
      "metadata": {
        "colab": {
          "base_uri": "https://localhost:8080/"
        },
        "id": "WFrjeHXNEJy5",
        "outputId": "8b7cba0f-aeaf-424d-bd80-5b1e1944ef0c"
      },
      "execution_count": 85,
      "outputs": [
        {
          "output_type": "execute_result",
          "data": {
            "text/plain": [
              "2"
            ]
          },
          "metadata": {},
          "execution_count": 85
        }
      ]
    },
    {
      "cell_type": "code",
      "source": [
        "#Leap\n",
        "def leap(z):\n",
        "  if (z%100==0) and (z%400==0):\n",
        "    print(\"Leap\")\n",
        "  elif (z%4==0) and (z%100 !=0):\n",
        "    print(\"Leap\")\n",
        "  else:\n",
        "    print(\"Not a leap\")\n",
        "  return ''"
      ],
      "metadata": {
        "id": "ycoQXGQPELoB"
      },
      "execution_count": 1,
      "outputs": []
    },
    {
      "cell_type": "code",
      "source": [
        "a=leap(2023)\n",
        "print(a)"
      ],
      "metadata": {
        "colab": {
          "base_uri": "https://localhost:8080/"
        },
        "id": "U3q0qPMCokAL",
        "outputId": "0cfd06ab-3f92-47c6-a556-684c09147076"
      },
      "execution_count": 3,
      "outputs": [
        {
          "output_type": "stream",
          "name": "stdout",
          "text": [
            "Not a leap\n",
            "\n"
          ]
        }
      ]
    },
    {
      "cell_type": "code",
      "source": [],
      "metadata": {
        "id": "ekjIG2dWokB2"
      },
      "execution_count": null,
      "outputs": []
    },
    {
      "cell_type": "code",
      "source": [],
      "metadata": {
        "id": "VECNQQ8eokFv"
      },
      "execution_count": null,
      "outputs": []
    },
    {
      "cell_type": "code",
      "source": [
        "z=2023\n",
        "if (z%100==0) and (z%400==0):\n",
        "    print(\"Leap\")\n",
        "elif (z%4==0) and (z%100 !=0):\n",
        "  print(\"Leap\")\n",
        "else:\n",
        "  print(\"Not a leap\")"
      ],
      "metadata": {
        "colab": {
          "base_uri": "https://localhost:8080/"
        },
        "id": "Zo6cXV6LHF_l",
        "outputId": "5e4a50c0-6e15-4e8e-9e7e-5a7511e4d72f"
      },
      "execution_count": 106,
      "outputs": [
        {
          "output_type": "stream",
          "name": "stdout",
          "text": [
            "Not a leap\n"
          ]
        }
      ]
    },
    {
      "cell_type": "code",
      "source": [
        "ss=leap(2024)\n",
        "print(ss)"
      ],
      "metadata": {
        "colab": {
          "base_uri": "https://localhost:8080/"
        },
        "id": "WpbRgeppF0Cd",
        "outputId": "c14ba51e-6f48-40a2-9eaa-5b3f4793c34d"
      },
      "execution_count": 104,
      "outputs": [
        {
          "output_type": "stream",
          "name": "stdout",
          "text": [
            "Leap\n",
            "None\n"
          ]
        }
      ]
    },
    {
      "cell_type": "code",
      "source": [
        "1900%100==0"
      ],
      "metadata": {
        "colab": {
          "base_uri": "https://localhost:8080/"
        },
        "id": "3BzbCoJjF0Ee",
        "outputId": "f2213fd2-b75a-4bf9-a993-f0a71a0f63c8"
      },
      "execution_count": 91,
      "outputs": [
        {
          "output_type": "execute_result",
          "data": {
            "text/plain": [
              "True"
            ]
          },
          "metadata": {},
          "execution_count": 91
        }
      ]
    },
    {
      "cell_type": "code",
      "source": [
        "1900%400==0"
      ],
      "metadata": {
        "colab": {
          "base_uri": "https://localhost:8080/"
        },
        "id": "LPN0PsTEF2w6",
        "outputId": "706ebdca-d269-486c-b7ea-56b992bff81f"
      },
      "execution_count": 92,
      "outputs": [
        {
          "output_type": "execute_result",
          "data": {
            "text/plain": [
              "False"
            ]
          },
          "metadata": {},
          "execution_count": 92
        }
      ]
    },
    {
      "cell_type": "code",
      "source": [
        "1900%4==0"
      ],
      "metadata": {
        "colab": {
          "base_uri": "https://localhost:8080/"
        },
        "id": "u_aq6ohyF7Wm",
        "outputId": "e86c14dc-c64a-4907-c37b-4a1a7c847c4a"
      },
      "execution_count": 93,
      "outputs": [
        {
          "output_type": "execute_result",
          "data": {
            "text/plain": [
              "True"
            ]
          },
          "metadata": {},
          "execution_count": 93
        }
      ]
    },
    {
      "cell_type": "code",
      "source": [
        "def prime(n):\n",
        "  if n<2:\n",
        "    return False\n",
        "  if n==2:\n",
        "    return True\n",
        "  for i in range(2,n//2+1):\n",
        "    if n%i==0:\n",
        "      return 'Not a prime'\n",
        "      break\n",
        "  return 'Prime'"
      ],
      "metadata": {
        "id": "issdPTOCF9Tj"
      },
      "execution_count": 29,
      "outputs": []
    },
    {
      "cell_type": "code",
      "source": [
        "ss=prime(3)\n",
        "print(ss)"
      ],
      "metadata": {
        "colab": {
          "base_uri": "https://localhost:8080/"
        },
        "id": "hS8rL5ccpKcw",
        "outputId": "381393d7-1daf-4e79-fb23-26b87cd07dcc"
      },
      "execution_count": 30,
      "outputs": [
        {
          "output_type": "stream",
          "name": "stdout",
          "text": [
            "Prime\n"
          ]
        }
      ]
    },
    {
      "cell_type": "code",
      "source": [
        "def prime_range(a,b):\n",
        "  s=[]\n",
        "  if a>b:\n",
        "    return False\n",
        "  if a<2:\n",
        "    return False\n",
        "  if a==2:\n",
        "    return True\n",
        "  for i in range(a,b+1):\n",
        "    if i>1:\n",
        "      for j in range(2,int(i//2)+1):\n",
        "        if i%j==0:\n",
        "          break\n",
        "      else:\n",
        "        s.append(i)\n",
        "  return s"
      ],
      "metadata": {
        "id": "5t_oo1BwqbPf"
      },
      "execution_count": 53,
      "outputs": []
    },
    {
      "cell_type": "code",
      "source": [
        "ll=prime_range(10,20)\n",
        "print(ll)"
      ],
      "metadata": {
        "colab": {
          "base_uri": "https://localhost:8080/"
        },
        "id": "5Td9ke5RqbRP",
        "outputId": "d84385d7-0a7e-409c-bfd1-a58eab7d3e2c"
      },
      "execution_count": 54,
      "outputs": [
        {
          "output_type": "stream",
          "name": "stdout",
          "text": [
            "[11, 13, 17, 19]\n"
          ]
        }
      ]
    },
    {
      "cell_type": "code",
      "source": [
        "#Reverse String\n",
        "s='Srikanth'\n",
        "print(s[::-1])"
      ],
      "metadata": {
        "colab": {
          "base_uri": "https://localhost:8080/"
        },
        "id": "DYrb9Gc8qbUz",
        "outputId": "6d822353-40c9-4fd6-d7bd-4d8cff52269a"
      },
      "execution_count": 55,
      "outputs": [
        {
          "output_type": "stream",
          "name": "stdout",
          "text": [
            "htnakirS\n"
          ]
        }
      ]
    },
    {
      "cell_type": "code",
      "source": [
        "print('-'.join(reversed(s)))"
      ],
      "metadata": {
        "colab": {
          "base_uri": "https://localhost:8080/"
        },
        "id": "LL6RAjqOqbWb",
        "outputId": "ea6102ac-0b0d-4682-9562-f5a4b0a83ed8"
      },
      "execution_count": 58,
      "outputs": [
        {
          "output_type": "stream",
          "name": "stdout",
          "text": [
            "h-t-n-a-k-i-r-S\n"
          ]
        }
      ]
    },
    {
      "cell_type": "code",
      "source": [
        "print(''.join(reversed(s)))"
      ],
      "metadata": {
        "colab": {
          "base_uri": "https://localhost:8080/"
        },
        "id": "XdGjOZU0vAev",
        "outputId": "57880a90-4e14-455d-a830-94e09caef96b"
      },
      "execution_count": 59,
      "outputs": [
        {
          "output_type": "stream",
          "name": "stdout",
          "text": [
            "htnakirS\n"
          ]
        }
      ]
    },
    {
      "cell_type": "code",
      "source": [
        "s='Srikanth'\n",
        "print(s[0::2])\n",
        "print(s[1::2])"
      ],
      "metadata": {
        "colab": {
          "base_uri": "https://localhost:8080/"
        },
        "id": "8A4QMcG2vLcn",
        "outputId": "dc8a035c-b7a4-462f-b99c-bfa2f3bb21a8"
      },
      "execution_count": 64,
      "outputs": [
        {
          "output_type": "stream",
          "name": "stdout",
          "text": [
            "Siat\n",
            "rknh\n"
          ]
        }
      ]
    },
    {
      "cell_type": "code",
      "source": [
        "s='Srikanth'\n",
        "i=0\n",
        "while i<len(s):\n",
        "  print(s[i])\n",
        "  i+=2"
      ],
      "metadata": {
        "colab": {
          "base_uri": "https://localhost:8080/"
        },
        "id": "rFfeD5t7xU-h",
        "outputId": "2c738ddc-ba54-46d4-97f1-b17b5b254662"
      },
      "execution_count": 66,
      "outputs": [
        {
          "output_type": "stream",
          "name": "stdout",
          "text": [
            "S\n",
            "i\n",
            "a\n",
            "t\n"
          ]
        }
      ]
    },
    {
      "cell_type": "code",
      "source": [
        "s='Srikanth'\n",
        "i=1\n",
        "while i<len(s):\n",
        "  print(s[i])\n",
        "  i+=2"
      ],
      "metadata": {
        "colab": {
          "base_uri": "https://localhost:8080/"
        },
        "id": "UXzePf-uxuRk",
        "outputId": "4ea894d9-f5fd-47ff-83da-7ec1082c7a1d"
      },
      "execution_count": 67,
      "outputs": [
        {
          "output_type": "stream",
          "name": "stdout",
          "text": [
            "r\n",
            "k\n",
            "n\n",
            "h\n"
          ]
        }
      ]
    },
    {
      "cell_type": "code",
      "source": [
        "s='Srikanth'\n",
        "for item in range(0,len(s),2):\n",
        "  print(s[item],end='')"
      ],
      "metadata": {
        "colab": {
          "base_uri": "https://localhost:8080/"
        },
        "id": "CwjXWmRux0L7",
        "outputId": "070e1812-73db-4f2a-ddb4-68ab0b6e1411"
      },
      "execution_count": 71,
      "outputs": [
        {
          "output_type": "stream",
          "name": "stdout",
          "text": [
            "Siat"
          ]
        }
      ]
    },
    {
      "cell_type": "code",
      "source": [
        "s='srikanth'\n",
        "s1='reddy'\n",
        "out=''\n",
        "i,j=0,0\n",
        "while i<len(s) or j<len(s1):\n",
        "  if i<len(s):\n",
        "    out=out+s[i]\n",
        "    i+=1\n",
        "  if j<len(s1):\n",
        "    out=out+s1[j]\n",
        "    j+=1\n",
        "print(out)"
      ],
      "metadata": {
        "colab": {
          "base_uri": "https://localhost:8080/"
        },
        "id": "BJYW6IH4yV8u",
        "outputId": "49a13f17-1e96-4827-abc1-451e582ac823"
      },
      "execution_count": 80,
      "outputs": [
        {
          "output_type": "stream",
          "name": "stdout",
          "text": [
            "srreidkdaynth\n"
          ]
        }
      ]
    },
    {
      "cell_type": "code",
      "source": [
        "s='efg5432abc12'\n",
        "a=[]\n",
        "b=[]\n",
        "for i in s:\n",
        "  if i.isalpha():\n",
        "    a.append(i)\n",
        "  else:\n",
        "    b.append(i)\n",
        "ss=''.join(sorted(a)+sorted(b))\n",
        "print(ss)\n"
      ],
      "metadata": {
        "colab": {
          "base_uri": "https://localhost:8080/"
        },
        "id": "p1veHcyB0--S",
        "outputId": "528897df-4e8b-4a3f-d819-b965a4fff885"
      },
      "execution_count": 85,
      "outputs": [
        {
          "output_type": "stream",
          "name": "stdout",
          "text": [
            "abcefg122345\n"
          ]
        }
      ]
    },
    {
      "cell_type": "code",
      "source": [
        "s='a3b2c1'\n",
        "out=''\n",
        "for i in s:\n",
        "  if i.isalpha():\n",
        "    x=i\n",
        "  else:\n",
        "    out=out+x*int(i)\n",
        "print(out)"
      ],
      "metadata": {
        "colab": {
          "base_uri": "https://localhost:8080/"
        },
        "id": "6pEjBiA36BBE",
        "outputId": "a58f7a74-56b7-442e-c3dc-298b26d4495e"
      },
      "execution_count": 86,
      "outputs": [
        {
          "output_type": "stream",
          "name": "stdout",
          "text": [
            "aaabbc\n"
          ]
        }
      ]
    },
    {
      "cell_type": "code",
      "source": [
        "s='aaaabbbccz'\n",
        "previous=s[0]\n",
        "i=1\n",
        "c=1\n",
        "out=''\n",
        "while i<len(s):\n",
        "  if s[i]==previous:\n",
        "    c=c+1\n",
        "  else:\n",
        "\n",
        "    out=out+str(c)+previous\n",
        "    previous=s[i]\n",
        "    c=1\n",
        "  if i==len(s)-1:\n",
        "    out=out+str(c)+previous\n",
        "  i=i+1\n",
        "print(out)\n",
        "\n",
        "\n",
        "\n",
        "\n"
      ],
      "metadata": {
        "colab": {
          "base_uri": "https://localhost:8080/"
        },
        "id": "nM9Zxj6a6BN_",
        "outputId": "4fcd4f45-25cb-4289-911a-d2ba860e0c39"
      },
      "execution_count": 88,
      "outputs": [
        {
          "output_type": "stream",
          "name": "stdout",
          "text": [
            "4a3b2c1z\n"
          ]
        }
      ]
    },
    {
      "cell_type": "code",
      "source": [
        "#ord('a')--------97\n",
        "#chr(98)-----b"
      ],
      "metadata": {
        "id": "N_dfPxJnBT1T"
      },
      "execution_count": null,
      "outputs": []
    },
    {
      "cell_type": "code",
      "source": [
        "ord('s')"
      ],
      "metadata": {
        "colab": {
          "base_uri": "https://localhost:8080/"
        },
        "id": "JKYs_7k_BT3H",
        "outputId": "7bd0e0f9-185f-445f-98d1-5614b7688bb7"
      },
      "execution_count": 89,
      "outputs": [
        {
          "output_type": "execute_result",
          "data": {
            "text/plain": [
              "115"
            ]
          },
          "metadata": {},
          "execution_count": 89
        }
      ]
    },
    {
      "cell_type": "code",
      "source": [
        "chr(115)"
      ],
      "metadata": {
        "colab": {
          "base_uri": "https://localhost:8080/",
          "height": 35
        },
        "id": "Wq_YhqykBT7F",
        "outputId": "912dd655-e965-48b1-d17b-71f2d97508a3"
      },
      "execution_count": 90,
      "outputs": [
        {
          "output_type": "execute_result",
          "data": {
            "text/plain": [
              "'s'"
            ],
            "application/vnd.google.colaboratory.intrinsic+json": {
              "type": "string"
            }
          },
          "metadata": {},
          "execution_count": 90
        }
      ]
    },
    {
      "cell_type": "code",
      "source": [
        "n=5\n",
        "for i in range(n):\n",
        "  for j in range(n-i-1):\n",
        "    print(' ',end='')\n",
        "  for j in range(i+1):\n",
        "    print('* ',end='')\n",
        "  print()\n",
        "n=4\n",
        "for i in range(n):\n",
        "  for j in range(n-i-1):\n",
        "    print(' ',end='')\n",
        "  for j in range(i+1):\n",
        "    print('* ',end='')\n",
        "  print()\n",
        "n=3\n",
        "for i in range(n):\n",
        "  for j in range(n-i-1):\n",
        "    print(' ',end='')\n",
        "  for j in range(i+1):\n",
        "    print('* ',end='')\n",
        "  print()\n",
        "n=3\n",
        "for i in range(n):\n",
        "  for j in range(n):\n",
        "    if j==0 :\n",
        "      print('  *',end='')\n",
        "    else:\n",
        "      print('',end='')\n",
        "  print()"
      ],
      "metadata": {
        "colab": {
          "base_uri": "https://localhost:8080/"
        },
        "id": "QeEE_yrUBhGF",
        "outputId": "8f7f9a78-24d7-47db-b6f5-48644dda9170"
      },
      "execution_count": 106,
      "outputs": [
        {
          "output_type": "stream",
          "name": "stdout",
          "text": [
            "    * \n",
            "   * * \n",
            "  * * * \n",
            " * * * * \n",
            "* * * * * \n",
            "   * \n",
            "  * * \n",
            " * * * \n",
            "* * * * \n",
            "  * \n",
            " * * \n",
            "* * * \n",
            "  *\n",
            "  *\n",
            "  *\n"
          ]
        }
      ]
    },
    {
      "cell_type": "code",
      "source": [
        "#a4k3b2\n",
        "s='a4k3b2'\n",
        "out=''\n",
        "i=0\n",
        "for i in s:\n",
        "  if i.isalpha():\n",
        "    out=out+i\n",
        "    x=i\n",
        "  else:\n",
        "    d=int(i)\n",
        "    out=out+chr(ord(x)+d)\n",
        "print(out)"
      ],
      "metadata": {
        "colab": {
          "base_uri": "https://localhost:8080/"
        },
        "id": "SgFSJtplDdee",
        "outputId": "6dc71293-361c-4295-fc00-aa17081a4652"
      },
      "execution_count": 116,
      "outputs": [
        {
          "output_type": "stream",
          "name": "stdout",
          "text": [
            "aeknbd\n"
          ]
        }
      ]
    },
    {
      "cell_type": "code",
      "source": [
        "65+26"
      ],
      "metadata": {
        "colab": {
          "base_uri": "https://localhost:8080/"
        },
        "id": "xhKr2_LNHAdE",
        "outputId": "c914a52a-dab3-4175-cd35-f7d12cefde86"
      },
      "execution_count": 1,
      "outputs": [
        {
          "output_type": "execute_result",
          "data": {
            "text/plain": [
              "91"
            ]
          },
          "metadata": {},
          "execution_count": 1
        }
      ]
    },
    {
      "cell_type": "code",
      "source": [
        "ord('a')"
      ],
      "metadata": {
        "colab": {
          "base_uri": "https://localhost:8080/"
        },
        "id": "PqhoDrBIL_1V",
        "outputId": "e5a180c2-c049-476f-a36c-8745524c6997"
      },
      "execution_count": 2,
      "outputs": [
        {
          "output_type": "execute_result",
          "data": {
            "text/plain": [
              "97"
            ]
          },
          "metadata": {},
          "execution_count": 2
        }
      ]
    },
    {
      "cell_type": "code",
      "source": [
        "chr(65)"
      ],
      "metadata": {
        "colab": {
          "base_uri": "https://localhost:8080/",
          "height": 35
        },
        "id": "ma1LbzuFMZdU",
        "outputId": "613baf0c-260a-4497-b57d-7ee78478b39f"
      },
      "execution_count": 3,
      "outputs": [
        {
          "output_type": "execute_result",
          "data": {
            "text/plain": [
              "'A'"
            ],
            "application/vnd.google.colaboratory.intrinsic+json": {
              "type": "string"
            }
          },
          "metadata": {},
          "execution_count": 3
        }
      ]
    },
    {
      "cell_type": "code",
      "source": [
        "chr(95)"
      ],
      "metadata": {
        "colab": {
          "base_uri": "https://localhost:8080/",
          "height": 35
        },
        "id": "Riw8WuNlMc9D",
        "outputId": "2d4a19c9-d327-4a2e-d0f5-acf34060628a"
      },
      "execution_count": 4,
      "outputs": [
        {
          "output_type": "execute_result",
          "data": {
            "text/plain": [
              "'_'"
            ],
            "application/vnd.google.colaboratory.intrinsic+json": {
              "type": "string"
            }
          },
          "metadata": {},
          "execution_count": 4
        }
      ]
    },
    {
      "cell_type": "code",
      "source": [
        "chr(91)"
      ],
      "metadata": {
        "colab": {
          "base_uri": "https://localhost:8080/",
          "height": 35
        },
        "id": "l3xl4WQzMirn",
        "outputId": "e701e91a-1614-41eb-98a1-85ce834612dc"
      },
      "execution_count": 5,
      "outputs": [
        {
          "output_type": "execute_result",
          "data": {
            "text/plain": [
              "'['"
            ],
            "application/vnd.google.colaboratory.intrinsic+json": {
              "type": "string"
            }
          },
          "metadata": {},
          "execution_count": 5
        }
      ]
    },
    {
      "cell_type": "code",
      "source": [
        "chr(90)"
      ],
      "metadata": {
        "colab": {
          "base_uri": "https://localhost:8080/",
          "height": 35
        },
        "id": "ToA6xLyWMk4q",
        "outputId": "fd9ec6e3-0675-4347-8cd8-f03881ea2179"
      },
      "execution_count": 6,
      "outputs": [
        {
          "output_type": "execute_result",
          "data": {
            "text/plain": [
              "'Z'"
            ],
            "application/vnd.google.colaboratory.intrinsic+json": {
              "type": "string"
            }
          },
          "metadata": {},
          "execution_count": 6
        }
      ]
    },
    {
      "cell_type": "code",
      "source": [
        "a=1\n",
        "print(a)"
      ],
      "metadata": {
        "colab": {
          "base_uri": "https://localhost:8080/"
        },
        "id": "cQxkvg0oMmvp",
        "outputId": "68a73213-0b69-4c1c-89a0-d83bd8358500"
      },
      "execution_count": 1,
      "outputs": [
        {
          "output_type": "stream",
          "name": "stdout",
          "text": [
            "1\n"
          ]
        }
      ]
    },
    {
      "cell_type": "code",
      "source": [
        "s='aabcde'\n",
        "ss=''\n",
        "for i in s:\n",
        "  if i not in ss:\n",
        "    ss=ss+i\n",
        "print(ss)"
      ],
      "metadata": {
        "colab": {
          "base_uri": "https://localhost:8080/"
        },
        "id": "Ni8DdOPyeOb4",
        "outputId": "d8a6efff-8c3a-4194-a29b-d65ab98ff522"
      },
      "execution_count": 2,
      "outputs": [
        {
          "output_type": "stream",
          "name": "stdout",
          "text": [
            "abcde\n"
          ]
        }
      ]
    },
    {
      "cell_type": "code",
      "source": [
        "s='abcdefaaaabbc'\n",
        "ss=''\n",
        "for i in s:\n",
        "  if i not in ss:\n",
        "    ss=ss+i\n",
        "for i in ss:\n",
        "  print('{} occurs {} times' .format(i,s.count(i)))"
      ],
      "metadata": {
        "colab": {
          "base_uri": "https://localhost:8080/"
        },
        "id": "Lwl1L5vRelNv",
        "outputId": "5f21776b-c226-44b0-a820-417649b8d9b2"
      },
      "execution_count": 3,
      "outputs": [
        {
          "output_type": "stream",
          "name": "stdout",
          "text": [
            "a occurs 5 times\n",
            "b occurs 3 times\n",
            "c occurs 2 times\n",
            "d occurs 1 times\n",
            "e occurs 1 times\n",
            "f occurs 1 times\n"
          ]
        }
      ]
    },
    {
      "cell_type": "code",
      "source": [
        "s='aaabcderftg'\n",
        "ss={}\n",
        "for i in s:\n",
        "  if i not in ss:\n",
        "    ss[i]=ss.get(i,0)+1\n",
        "print(ss)"
      ],
      "metadata": {
        "colab": {
          "base_uri": "https://localhost:8080/"
        },
        "id": "WuqxsaNtelbX",
        "outputId": "829ce85d-8315-483b-9463-affeac2ff0f8"
      },
      "execution_count": 66,
      "outputs": [
        {
          "output_type": "stream",
          "name": "stdout",
          "text": [
            "{'a': 1, 'b': 1, 'c': 1, 'd': 1, 'e': 1, 'r': 1, 'f': 1, 't': 1, 'g': 1}\n"
          ]
        }
      ]
    },
    {
      "cell_type": "code",
      "source": [
        "s='abcderftg'\n",
        "ss={}\n",
        "for i in s:\n",
        "  if i not in ss:\n",
        "    ss[i]=ss.get(i,0)+1\n",
        "out=''\n",
        "for i,j in ss.items():\n",
        "  out=out+str(j)+i\n",
        "print(out)"
      ],
      "metadata": {
        "colab": {
          "base_uri": "https://localhost:8080/"
        },
        "id": "oGA-pxqreldK",
        "outputId": "aa30d508-f882-4788-d6a3-c3daf0e93701"
      },
      "execution_count": 8,
      "outputs": [
        {
          "output_type": "stream",
          "name": "stdout",
          "text": [
            "1a1b1c1d1e1r1f1t1g\n"
          ]
        }
      ]
    },
    {
      "cell_type": "code",
      "source": [
        "s='abcderftg'\n",
        "ss={}\n",
        "for i in s:\n",
        "  if i not in ss:\n",
        "    ss[i]=ss.get(i,0)+1\n",
        "out=''\n",
        "for i,j in sorted(ss.items()):\n",
        "  out=out+str(j)+i\n",
        "print(out)"
      ],
      "metadata": {
        "colab": {
          "base_uri": "https://localhost:8080/"
        },
        "id": "dTcVhB5Pelgu",
        "outputId": "fd370a3d-f96f-4746-f54c-191c5bf2ea98"
      },
      "execution_count": 9,
      "outputs": [
        {
          "output_type": "stream",
          "name": "stdout",
          "text": [
            "1a1b1c1d1e1f1g1r1t\n"
          ]
        }
      ]
    },
    {
      "cell_type": "code",
      "source": [
        "s='abcderftg'\n",
        "ss={}\n",
        "for i in s:\n",
        "  if i not in ss:\n",
        "    ss[i]=ss.get(i,0)+1\n",
        "out=''\n",
        "for i,j in sorted(ss.items()):\n",
        "  out=out+i+str(j)\n",
        "print(out)"
      ],
      "metadata": {
        "colab": {
          "base_uri": "https://localhost:8080/"
        },
        "id": "FaPKf4sQeljF",
        "outputId": "d4763c5a-e9b1-4e42-dd8c-ca9fac5c618a"
      },
      "execution_count": 10,
      "outputs": [
        {
          "output_type": "stream",
          "name": "stdout",
          "text": [
            "a1b1c1d1e1f1g1r1t1\n"
          ]
        }
      ]
    },
    {
      "cell_type": "code",
      "source": [
        "s='abcedfoiaeiutfgj'\n",
        "v={'a','e','i','o','u'}\n",
        "a={}\n",
        "for i in s:\n",
        "  if i in v:\n",
        "    a[i]=a.get(i,0)+1\n",
        "print(a)"
      ],
      "metadata": {
        "colab": {
          "base_uri": "https://localhost:8080/"
        },
        "id": "t9lcjkuHhsew",
        "outputId": "47687b17-e640-4d37-b701-2220cff5090d"
      },
      "execution_count": 12,
      "outputs": [
        {
          "output_type": "stream",
          "name": "stdout",
          "text": [
            "{'a': 2, 'e': 2, 'o': 1, 'i': 2, 'u': 1}\n"
          ]
        }
      ]
    },
    {
      "cell_type": "code",
      "source": [
        "s='abcdeacde'\n",
        "ss=[]\n",
        "for i in s:\n",
        "  if i not in ss:\n",
        "    ss.append(i)\n",
        "out=''.join(ss)\n",
        "print(out)"
      ],
      "metadata": {
        "colab": {
          "base_uri": "https://localhost:8080/"
        },
        "id": "FRORId1piUhy",
        "outputId": "8faaab37-7dc8-4abf-a2a3-e852afe024ea"
      },
      "execution_count": 14,
      "outputs": [
        {
          "output_type": "stream",
          "name": "stdout",
          "text": [
            "abcde\n"
          ]
        }
      ]
    },
    {
      "cell_type": "code",
      "source": [
        "s='abcdefrdcedc'\n",
        "ss=set(s)\n",
        "print(ss)\n",
        "out=''\n",
        "for i in sorted(ss):\n",
        "  out=out+i\n",
        "print(out)"
      ],
      "metadata": {
        "colab": {
          "base_uri": "https://localhost:8080/"
        },
        "id": "UZgkf_najOeY",
        "outputId": "248a99fc-561b-469e-d357-420140e66b73"
      },
      "execution_count": 18,
      "outputs": [
        {
          "output_type": "stream",
          "name": "stdout",
          "text": [
            "{'b', 'd', 'a', 'c', 'e', 'r', 'f'}\n",
            "abcdefr\n"
          ]
        }
      ]
    },
    {
      "cell_type": "code",
      "source": [
        "s='singam srikanth reddy going to office weekly three times'\n",
        "ss=s.split()\n",
        "\n",
        "for i in ss:\n",
        "  print(i[::-1],end=' ')\n",
        ""
      ],
      "metadata": {
        "colab": {
          "base_uri": "https://localhost:8080/"
        },
        "id": "qyw2i-n7jlOh",
        "outputId": "1f77deaf-2a25-4fbd-d09a-1cf0ed8943a3"
      },
      "execution_count": 23,
      "outputs": [
        {
          "output_type": "stream",
          "name": "stdout",
          "text": [
            "magnis htnakirs ydder gniog ot eciffo ylkeew eerht semit "
          ]
        }
      ]
    },
    {
      "cell_type": "code",
      "source": [
        "s='singam srikanth reddy going to office weekly three times'\n",
        "ss=s.split()\n",
        "print(ss)"
      ],
      "metadata": {
        "colab": {
          "base_uri": "https://localhost:8080/"
        },
        "id": "Fm_fmYVkkgeW",
        "outputId": "1bab681b-ec44-4653-ba5c-141ff8a0ae0a"
      },
      "execution_count": 24,
      "outputs": [
        {
          "output_type": "stream",
          "name": "stdout",
          "text": [
            "['singam', 'srikanth', 'reddy', 'going', 'to', 'office', 'weekly', 'three', 'times']\n"
          ]
        }
      ]
    },
    {
      "cell_type": "code",
      "source": [
        "print(ss[::-1])"
      ],
      "metadata": {
        "colab": {
          "base_uri": "https://localhost:8080/"
        },
        "id": "Scw4Jeq_k9zV",
        "outputId": "f9d5d8a1-510e-4fb7-b5e3-279512a4f6ae"
      },
      "execution_count": 26,
      "outputs": [
        {
          "output_type": "stream",
          "name": "stdout",
          "text": [
            "['times', 'three', 'weekly', 'office', 'to', 'going', 'reddy', 'srikanth', 'singam']\n"
          ]
        }
      ]
    },
    {
      "cell_type": "code",
      "source": [
        "s='singam srikanth reddy going to office weekly three times'\n",
        "ss=s.split()\n",
        "for i in ss:\n",
        "  if len(i)<2:\n",
        "    print(i,end=' ')\n"
      ],
      "metadata": {
        "id": "53ve2xsvlCNw"
      },
      "execution_count": 31,
      "outputs": []
    },
    {
      "cell_type": "code",
      "source": [
        "s='singam srikanth reddy going to office weekly three times'\n",
        "ss=s.split()\n",
        "k=[]\n",
        "i=0\n",
        "while i<len(ss):\n",
        "  if i%2==0:\n",
        "    k.append(ss[i])\n",
        "  else:\n",
        "    k.append(ss[i][::-1])\n",
        "  i+=1\n",
        "print(k)"
      ],
      "metadata": {
        "colab": {
          "base_uri": "https://localhost:8080/"
        },
        "id": "verPgVqimDWG",
        "outputId": "b512e28b-8e1f-465c-909c-d30faf33e2f4"
      },
      "execution_count": 37,
      "outputs": [
        {
          "output_type": "stream",
          "name": "stdout",
          "text": [
            "['singam', 'htnakirs', 'reddy', 'gniog', 'to', 'eciffo', 'weekly', 'eerht', 'times']\n"
          ]
        }
      ]
    },
    {
      "cell_type": "code",
      "source": [
        "s='singam srikanth reddy going to office weekly three times'\n",
        "ss=s.split()\n",
        "k=[]\n",
        "i=0\n",
        "while i<len(ss):\n",
        "  if i%2==0:\n",
        "    k.append(ss[i])\n",
        "  else:\n",
        "    k.append(ss[i][::-1])\n",
        "  i+=1\n",
        "out=' '.join(k)\n",
        "print(out)"
      ],
      "metadata": {
        "colab": {
          "base_uri": "https://localhost:8080/"
        },
        "id": "Is9Ez5Vgnd5R",
        "outputId": "5395ff31-ff0e-4d28-8fcd-12033118f699"
      },
      "execution_count": 42,
      "outputs": [
        {
          "output_type": "stream",
          "name": "stdout",
          "text": [
            "singam htnakirs reddy gniog to eciffo weekly eerht times\n"
          ]
        }
      ]
    },
    {
      "cell_type": "code",
      "source": [
        "print(k)"
      ],
      "metadata": {
        "colab": {
          "base_uri": "https://localhost:8080/"
        },
        "id": "hxFm1E_8osVC",
        "outputId": "0d45ddda-c9ec-4e25-d60d-68a980487624"
      },
      "execution_count": 43,
      "outputs": [
        {
          "output_type": "stream",
          "name": "stdout",
          "text": [
            "['singam', 'htnakirs', 'reddy', 'gniog', 'to', 'eciffo', 'weekly', 'eerht', 'times']\n"
          ]
        }
      ]
    },
    {
      "cell_type": "code",
      "source": [
        "a=[]\n",
        "for i in range(0,len(ss)):\n",
        "  if i%2==0:\n",
        "    a.append(ss[i])\n",
        "  else:\n",
        "    a.append(ss[i][::-1])\n",
        "print(a)\n"
      ],
      "metadata": {
        "colab": {
          "base_uri": "https://localhost:8080/"
        },
        "id": "hqIiwdsDpfgM",
        "outputId": "00da97f8-f567-4399-89f1-870095c3b332"
      },
      "execution_count": 63,
      "outputs": [
        {
          "output_type": "stream",
          "name": "stdout",
          "text": [
            "['singam', 'htnakirs', 'reddy', 'gniog', 'to', 'eciffo', 'weekly', 'eerht', 'times']\n"
          ]
        }
      ]
    },
    {
      "cell_type": "code",
      "source": [
        "s='aabc'\n",
        "d={}\n",
        "for i in s:\n",
        "  if i not in d:\n",
        "    d[i]=d.get(i,0)+1\n",
        "print(d)"
      ],
      "metadata": {
        "colab": {
          "base_uri": "https://localhost:8080/"
        },
        "id": "Dq81aseGpj1V",
        "outputId": "a15c531a-b04b-4bae-ec2c-96075bf19b88"
      },
      "execution_count": 71,
      "outputs": [
        {
          "output_type": "stream",
          "name": "stdout",
          "text": [
            "{'a': 1, 'b': 1, 'c': 1}\n"
          ]
        }
      ]
    },
    {
      "cell_type": "code",
      "source": [
        "s='aabcde'\n",
        "d={}\n",
        "for i in s:\n",
        "  if i not in d:\n",
        "    d[i]=1\n",
        "  else:\n",
        "    d[i]+=1\n",
        "print(d)"
      ],
      "metadata": {
        "colab": {
          "base_uri": "https://localhost:8080/"
        },
        "id": "tMXRTpncsdsu",
        "outputId": "efaa6c1b-f11d-4087-b982-26ec49bb681a"
      },
      "execution_count": 67,
      "outputs": [
        {
          "output_type": "stream",
          "name": "stdout",
          "text": [
            "{'a': 2, 'b': 1, 'c': 1, 'd': 1, 'e': 1}\n"
          ]
        }
      ]
    },
    {
      "cell_type": "code",
      "source": [
        "s='aabc'\n",
        "d={}\n",
        "for i in s:\n",
        "  d[i]=d.get(i,0)+1\n",
        "print(d)"
      ],
      "metadata": {
        "colab": {
          "base_uri": "https://localhost:8080/"
        },
        "id": "5l9PtxFHuFq6",
        "outputId": "ad3e8b7d-dc5c-40f1-be6e-c667c3c3c65b"
      },
      "execution_count": 72,
      "outputs": [
        {
          "output_type": "stream",
          "name": "stdout",
          "text": [
            "{'a': 2, 'b': 1, 'c': 1}\n"
          ]
        }
      ]
    },
    {
      "cell_type": "code",
      "source": [
        "s='abcdefcdef'\n",
        "v={'a','e','i','o','u'}\n",
        "d={}\n",
        "for i in s:\n",
        "  if i in v:\n",
        "    d[i]=d.get(i,0)+1\n",
        "print(d)"
      ],
      "metadata": {
        "colab": {
          "base_uri": "https://localhost:8080/"
        },
        "id": "Pmngv5amvH7E",
        "outputId": "b5af3391-6835-4a54-c9f1-ece003f00a15"
      },
      "execution_count": 73,
      "outputs": [
        {
          "output_type": "stream",
          "name": "stdout",
          "text": [
            "{'a': 1, 'e': 2}\n"
          ]
        }
      ]
    },
    {
      "cell_type": "code",
      "source": [
        "s='singam srikanth reddy ssr'\n",
        "ss=s.split()\n",
        "k=[]\n",
        "for i in range(len(ss)):\n",
        "  if i%2==0:\n",
        "    k.append(ss[i])\n",
        "  else:\n",
        "    k.append(ss[i][::-1])\n",
        "print(k)\n"
      ],
      "metadata": {
        "colab": {
          "base_uri": "https://localhost:8080/"
        },
        "id": "yPHde9olv6eV",
        "outputId": "b3d7f4dd-f089-469a-df4c-abce7d4d71b6"
      },
      "execution_count": 74,
      "outputs": [
        {
          "output_type": "stream",
          "name": "stdout",
          "text": [
            "['singam', 'htnakirs', 'reddy', 'rss']\n"
          ]
        }
      ]
    },
    {
      "cell_type": "code",
      "source": [
        "n=5\n",
        "for i in range(n):\n",
        "  for j in range(i):\n",
        "    print('*',end='')\n",
        "  print()"
      ],
      "metadata": {
        "colab": {
          "base_uri": "https://localhost:8080/"
        },
        "id": "Pxms95pawQka",
        "outputId": "e5d6b568-8724-4468-f2dc-38021aedae7a"
      },
      "execution_count": 75,
      "outputs": [
        {
          "output_type": "stream",
          "name": "stdout",
          "text": [
            "\n",
            "*\n",
            "**\n",
            "***\n",
            "****\n"
          ]
        }
      ]
    },
    {
      "cell_type": "code",
      "source": [
        "n=5\n",
        "for i in range(n):\n",
        "  for j in range(n-i):\n",
        "    print('*',end='')\n",
        "  print()"
      ],
      "metadata": {
        "colab": {
          "base_uri": "https://localhost:8080/"
        },
        "id": "YU49bgiAwgO6",
        "outputId": "ad1b83a4-2a34-4261-f1eb-6520bbe957ad"
      },
      "execution_count": 76,
      "outputs": [
        {
          "output_type": "stream",
          "name": "stdout",
          "text": [
            "*****\n",
            "****\n",
            "***\n",
            "**\n",
            "*\n"
          ]
        }
      ]
    },
    {
      "cell_type": "code",
      "source": [
        "n=5\n",
        "for i in range(n):\n",
        "  for j in range(i):\n",
        "    print(' ',end='')\n",
        "  for j in range(n-i-1):\n",
        "    print('*',end='')\n",
        "  print()"
      ],
      "metadata": {
        "colab": {
          "base_uri": "https://localhost:8080/"
        },
        "id": "xLByE_KewlSI",
        "outputId": "14becf18-b299-4eae-e4d6-49665360495c"
      },
      "execution_count": 77,
      "outputs": [
        {
          "output_type": "stream",
          "name": "stdout",
          "text": [
            "****\n",
            " ***\n",
            "  **\n",
            "   *\n",
            "    \n"
          ]
        }
      ]
    },
    {
      "cell_type": "code",
      "source": [
        "n=5\n",
        "for i in range(n):\n",
        "\n",
        "  for j in range(n-i-1):\n",
        "    print(' ',end='')\n",
        "  for j in range(i+1):\n",
        "    print('* ',end='')\n",
        "  print()"
      ],
      "metadata": {
        "colab": {
          "base_uri": "https://localhost:8080/"
        },
        "id": "YkkDXbQLw8Dc",
        "outputId": "6ff959a3-41fe-4266-8257-37ebce3f6f33"
      },
      "execution_count": 85,
      "outputs": [
        {
          "output_type": "stream",
          "name": "stdout",
          "text": [
            "    * \n",
            "   * * \n",
            "  * * * \n",
            " * * * * \n",
            "* * * * * \n"
          ]
        }
      ]
    },
    {
      "cell_type": "code",
      "source": [
        "import numpy as np"
      ],
      "metadata": {
        "id": "VXqoe98YxFVR"
      },
      "execution_count": 1,
      "outputs": []
    },
    {
      "cell_type": "code",
      "source": [
        "import matplotlib.pyplot as plt\n",
        "\n",
        "x=np.linspace(0,10,20)\n",
        "y=x**2\n",
        "plt.plot(x,y)"
      ],
      "metadata": {
        "colab": {
          "base_uri": "https://localhost:8080/",
          "height": 447
        },
        "id": "wqSRvHeJjqVC",
        "outputId": "f02be28e-700a-4b1c-ba72-e3f13ded1981"
      },
      "execution_count": 4,
      "outputs": [
        {
          "output_type": "execute_result",
          "data": {
            "text/plain": [
              "[<matplotlib.lines.Line2D at 0x7ddd0a10a890>]"
            ]
          },
          "metadata": {},
          "execution_count": 4
        },
        {
          "output_type": "display_data",
          "data": {
            "text/plain": [
              "<Figure size 640x480 with 1 Axes>"
            ],
            "image/png": "[encoded data removed]"
          },
          "metadata": {}
        }
      ]
    },
    {
      "cell_type": "code",
      "source": [
        "plt.plot(x,y)\n",
        "plt.title('First Pic')\n",
        "plt.xlabel('X-Label')\n",
        "plt.ylabel(\"Y-label\")"
      ],
      "metadata": {
        "colab": {
          "base_uri": "https://localhost:8080/",
          "height": 489
        },
        "id": "NPjOoYzej4Lh",
        "outputId": "fbeac2a6-47a2-43bf-fe06-2ac7a5a9d86c"
      },
      "execution_count": 5,
      "outputs": [
        {
          "output_type": "execute_result",
          "data": {
            "text/plain": [
              "Text(0, 0.5, 'Y-label')"
            ]
          },
          "metadata": {},
          "execution_count": 5
        },
        {
          "output_type": "display_data",
          "data": {
            "text/plain": [
              "<Figure size 640x480 with 1 Axes>"
            ],
            "image/png": "[encoded data removed]"
          },
          "metadata": {}
        }
      ]
    },
    {
      "cell_type": "code",
      "source": [
        "plt.subplot(1,2,1)\n",
        "plt.plot(x,y,'red')"
      ],
      "metadata": {
        "colab": {
          "base_uri": "https://localhost:8080/",
          "height": 447
        },
        "id": "IXpdDDzVkV1w",
        "outputId": "bcf99671-bd8d-4dac-c19c-16af4442ef2e"
      },
      "execution_count": 6,
      "outputs": [
        {
          "output_type": "execute_result",
          "data": {
            "text/plain": [
              "[<matplotlib.lines.Line2D at 0x7ddcede57fa0>]"
            ]
          },
          "metadata": {},
          "execution_count": 6
        },
        {
          "output_type": "display_data",
          "data": {
            "text/plain": [
              "<Figure size 640x480 with 1 Axes>"
            ],
            "image/png": "[encoded data removed]"
          },
          "metadata": {}
        }
      ]
    },
    {
      "cell_type": "code",
      "source": [
        "fig = plt.figure()\n",
        "ax=fig.add_axes([0.1,0.2,0.8,1.0])"
      ],
      "metadata": {
        "colab": {
          "base_uri": "https://localhost:8080/",
          "height": 546
        },
        "id": "eGJJRv_JljWe",
        "outputId": "782484f9-5dd6-439b-fc17-85e4b4c1fc46"
      },
      "execution_count": 13,
      "outputs": [
        {
          "output_type": "display_data",
          "data": {
            "text/plain": [
              "<Figure size 640x480 with 1 Axes>"
            ],
            "image/png": "[encoded data removed]"
          },
          "metadata": {}
        }
      ]
    },
    {
      "cell_type": "code",
      "source": [
        "fig = plt.figure()\n",
        "ax=fig.add_axes([0.1,0.2,0.8,1.0])\n",
        "ax.plot(x,y,'purple')"
      ],
      "metadata": {
        "colab": {
          "base_uri": "https://localhost:8080/",
          "height": 557
        },
        "id": "auiJs8UfntKF",
        "outputId": "631cdd7a-f482-4224-870e-e43daf21adf8"
      },
      "execution_count": 15,
      "outputs": [
        {
          "output_type": "execute_result",
          "data": {
            "text/plain": [
              "[<matplotlib.lines.Line2D at 0x7ddcedaefb20>]"
            ]
          },
          "metadata": {},
          "execution_count": 15
        },
        {
          "output_type": "display_data",
          "data": {
            "text/plain": [
              "<Figure size 640x480 with 1 Axes>"
            ],
            "image/png": "[encoded data removed]"
          },
          "metadata": {}
        }
      ]
    },
    {
      "cell_type": "code",
      "source": [
        "fig = plt.figure()\n",
        "ax=fig.add_axes([0.1,0.2,0.8,1.0])\n",
        "ax2=fig.add_axes([0.2,0.5,0.3,0.4])\n"
      ],
      "metadata": {
        "colab": {
          "base_uri": "https://localhost:8080/",
          "height": 546
        },
        "id": "LcpiAt9BoCMc",
        "outputId": "8c6fd05d-9b60-4f34-e438-84a3e8e268de"
      },
      "execution_count": 21,
      "outputs": [
        {
          "output_type": "display_data",
          "data": {
            "text/plain": [
              "<Figure size 640x480 with 2 Axes>"
            ],
            "image/png": "[encoded data removed]"
          },
          "metadata": {}
        }
      ]
    },
    {
      "cell_type": "code",
      "source": [
        "fig = plt.figure()\n",
        "ax=fig.add_axes([0.1,0.2,0.8,1.0])\n",
        "ax2=fig.add_axes([0.2,0.5,0.3,0.4])\n",
        "ax.plot(x,y,'red')\n",
        "ax2.plot(y,x,'purple')"
      ],
      "metadata": {
        "colab": {
          "base_uri": "https://localhost:8080/",
          "height": 557
        },
        "id": "ZAmKfNtAqKpA",
        "outputId": "12bbd691-7885-4ee0-ef10-9f2639378d36"
      },
      "execution_count": 23,
      "outputs": [
        {
          "output_type": "execute_result",
          "data": {
            "text/plain": [
              "[<matplotlib.lines.Line2D at 0x7ddcd4c2f370>]"
            ]
          },
          "metadata": {},
          "execution_count": 23
        },
        {
          "output_type": "display_data",
          "data": {
            "text/plain": [
              "<Figure size 640x480 with 2 Axes>"
            ],
            "image/png": "[encoded data removed]"
          },
          "metadata": {}
        }
      ]
    },
    {
      "cell_type": "code",
      "source": [
        "fig = plt.figure(figsize=(100,100),dpi=10)\n",
        "ax=fig.add_axes([0.1,0.2,0.8,1.0])\n",
        "ax2=fig.add_axes([0.2,0.5,0.3,0.4])\n",
        "ax.plot(x,y,'red')\n",
        "ax2.plot(y,x,'purple')"
      ],
      "metadata": {
        "colab": {
          "base_uri": "https://localhost:8080/",
          "height": 1000
        },
        "id": "vMuMT9C6qivI",
        "outputId": "90968c21-5286-4200-c77e-d9f8e78ba149"
      },
      "execution_count": 26,
      "outputs": [
        {
          "output_type": "execute_result",
          "data": {
            "text/plain": [
              "[<matplotlib.lines.Line2D at 0x7ddcd4acc9a0>]"
            ]
          },
          "metadata": {},
          "execution_count": 26
        },
        {
          "output_type": "display_data",
          "data": {
            "text/plain": [
              "<Figure size 1000x1000 with 2 Axes>"
            ],
            "image/png": "[encoded data removed]"
          },
          "metadata": {}
        }
      ]
    },
    {
      "cell_type": "code",
      "source": [
        "fig=plt.figure(figsize=(10,10),dpi=100)\n",
        "ax=fig.add_axes([0,0,1,1])\n",
        "ax.plot(x,x**2,label='X Square label')\n",
        "ax.plot(x,x**3,label='X Cube label')\n",
        "ax.legend()"
      ],
      "metadata": {
        "colab": {
          "base_uri": "https://localhost:8080/",
          "height": 1000
        },
        "id": "MYWg8Eztr7OZ",
        "outputId": "7d87522d-3af8-4ce4-e520-a710203ebe5d"
      },
      "execution_count": 29,
      "outputs": [
        {
          "output_type": "execute_result",
          "data": {
            "text/plain": [
              "<matplotlib.legend.Legend at 0x7ddcd4ace770>"
            ]
          },
          "metadata": {},
          "execution_count": 29
        },
        {
          "output_type": "display_data",
          "data": {
            "text/plain": [
              "<Figure size 1000x1000 with 1 Axes>"
            ],
            "image/png": "[encoded data removed]"
          },
          "metadata": {}
        }
      ]
    },
    {
      "cell_type": "code",
      "source": [
        "fig=plt.figure(figsize=(10,10),dpi=100)\n",
        "ax=fig.add_axes([0,0,1,1])\n",
        "ax.plot(x,y,linestyle='--',linewidth=3,marker='o',markersize=16)"
      ],
      "metadata": {
        "colab": {
          "base_uri": "https://localhost:8080/",
          "height": 1000
        },
        "id": "BokwFC1utXvH",
        "outputId": "5d780875-56ef-4152-acc3-f6139d81d2b5"
      },
      "execution_count": 32,
      "outputs": [
        {
          "output_type": "execute_result",
          "data": {
            "text/plain": [
              "[<matplotlib.lines.Line2D at 0x7ddcd4975060>]"
            ]
          },
          "metadata": {},
          "execution_count": 32
        },
        {
          "output_type": "display_data",
          "data": {
            "text/plain": [
              "<Figure size 1000x1000 with 1 Axes>"
            ],
            "image/png": "[encoded data removed]"
          },
          "metadata": {}
        }
      ]
    },
    {
      "cell_type": "code",
      "source": [
        "import random"
      ],
      "metadata": {
        "id": "0vUli_gSuRxP"
      },
      "execution_count": 33,
      "outputs": []
    },
    {
      "cell_type": "code",
      "source": [
        "x=np.random.randn(1000)\n",
        "plt.hist(x)"
      ],
      "metadata": {
        "colab": {
          "base_uri": "https://localhost:8080/",
          "height": 517
        },
        "id": "-74oy-ZqvDTl",
        "outputId": "c506388c-992e-4387-99a8-bc32a9b4a328"
      },
      "execution_count": 34,
      "outputs": [
        {
          "output_type": "execute_result",
          "data": {
            "text/plain": [
              "(array([ 17.,  29.,  75., 164., 245., 228., 142.,  70.,  20.,  10.]),\n",
              " array([-2.95848498, -2.35283095, -1.74717691, -1.14152288, -0.53586884,\n",
              "         0.0697852 ,  0.67543923,  1.28109327,  1.8867473 ,  2.49240134,\n",
              "         3.09805537]),\n",
              " <BarContainer object of 10 artists>)"
            ]
          },
          "metadata": {},
          "execution_count": 34
        },
        {
          "output_type": "display_data",
          "data": {
            "text/plain": [
              "<Figure size 640x480 with 1 Axes>"
            ],
            "image/png": "[encoded data removed]"
          },
          "metadata": {}
        }
      ]
    },
    {
      "cell_type": "code",
      "source": [
        "#Implementing the regression line\n",
        "a=[2,3,4,5,6,7,8,9,10,11,12,13,14,15,16,17,18,19,20,21,22,23,24,25]\n",
        "b=[10,12,20,22,21,25,30,21,32,34,35,30,50,45,55,60,66,64,67,72,74,80,79,84]\n",
        "len(a),len(b)"
      ],
      "metadata": {
        "colab": {
          "base_uri": "https://localhost:8080/"
        },
        "id": "Cc8Vu-bYvImS",
        "outputId": "f5c0d6ac-5c48-4c4b-f4a7-7de093c6eaf1"
      },
      "execution_count": 58,
      "outputs": [
        {
          "output_type": "execute_result",
          "data": {
            "text/plain": [
              "(24, 24)"
            ]
          },
          "metadata": {},
          "execution_count": 58
        }
      ]
    },
    {
      "cell_type": "code",
      "source": [
        "plt.scatter(a,b)\n",
        "plt.xlabel('Independent Variable')\n",
        "plt.ylabel(\"Dependent Variable\")\n",
        "plt.title(\"Impelementing linear regression model\")\n",
        "plt.show()"
      ],
      "metadata": {
        "colab": {
          "base_uri": "https://localhost:8080/",
          "height": 472
        },
        "id": "FTU6409W2oFR",
        "outputId": "0eb138f7-ee8c-461d-b1cb-4e0c3b0f4968"
      },
      "execution_count": 59,
      "outputs": [
        {
          "output_type": "display_data",
          "data": {
            "text/plain": [
              "<Figure size 640x480 with 1 Axes>"
            ],
            "image/png": "[encoded data removed]"
          },
          "metadata": {}
        }
      ]
    },
    {
      "cell_type": "code",
      "source": [
        "def slope_intercept(a,b):\n",
        " x=np.array(a)\n",
        " y=np.array(b)\n",
        " m=((np.mean(x)*np.mean(y)-np.mean(x*y))/(np.mean(x)*np.mean(x)-np.mean(x*x)))\n",
        " m=round(m,2)\n",
        " b1=(np.mean(y)-np.mean(x)*m)\n",
        " b1=round(b1,2)\n",
        " return m,b1\n"
      ],
      "metadata": {
        "id": "rn1nlTkN3Cgk"
      },
      "execution_count": 72,
      "outputs": []
    },
    {
      "cell_type": "code",
      "source": [
        "slope_intercept(a,b)"
      ],
      "metadata": {
        "colab": {
          "base_uri": "https://localhost:8080/"
        },
        "id": "W8yVQTr84efL",
        "outputId": "efedc30e-ff2f-4b40-cbb0-3c27f8efbb40"
      },
      "execution_count": 73,
      "outputs": [
        {
          "output_type": "execute_result",
          "data": {
            "text/plain": [
              "(3.29, 0.92)"
            ]
          },
          "metadata": {},
          "execution_count": 73
        }
      ]
    },
    {
      "cell_type": "code",
      "source": [
        "m,b1=slope_intercept(a,b)\n"
      ],
      "metadata": {
        "id": "9NYELJ-x6kmg"
      },
      "execution_count": 74,
      "outputs": []
    },
    {
      "cell_type": "code",
      "source": [
        "regLine=[(m*i)+b1 for i in a]"
      ],
      "metadata": {
        "id": "A414q7DH4mUO"
      },
      "execution_count": 75,
      "outputs": []
    },
    {
      "cell_type": "code",
      "source": [
        "regLine"
      ],
      "metadata": {
        "colab": {
          "base_uri": "https://localhost:8080/"
        },
        "id": "LglwOTIy6iDL",
        "outputId": "7ac8e6d0-283a-4a59-cfd1-d565d4e54a81"
      },
      "execution_count": 76,
      "outputs": [
        {
          "output_type": "execute_result",
          "data": {
            "text/plain": [
              "[7.5,\n",
              " 10.790000000000001,\n",
              " 14.08,\n",
              " 17.37,\n",
              " 20.660000000000004,\n",
              " 23.950000000000003,\n",
              " 27.240000000000002,\n",
              " 30.53,\n",
              " 33.82,\n",
              " 37.11,\n",
              " 40.400000000000006,\n",
              " 43.690000000000005,\n",
              " 46.980000000000004,\n",
              " 50.27,\n",
              " 53.56,\n",
              " 56.85,\n",
              " 60.14,\n",
              " 63.43,\n",
              " 66.72,\n",
              " 70.01,\n",
              " 73.3,\n",
              " 76.59,\n",
              " 79.88000000000001,\n",
              " 83.17]"
            ]
          },
          "metadata": {},
          "execution_count": 76
        }
      ]
    },
    {
      "cell_type": "code",
      "source": [
        "plt.scatter(a,b,color='red')\n",
        "plt.plot(a,regLine)\n",
        "plt.xlabel('Independent Variable')\n",
        "plt.ylabel(\"Dependent Variable\")\n",
        "plt.title(\"Making decision regression model\")\n",
        "plt.show()"
      ],
      "metadata": {
        "colab": {
          "base_uri": "https://localhost:8080/",
          "height": 472
        },
        "id": "LEWF5pee6s5H",
        "outputId": "22cd6546-d4c0-4c41-dec7-d6973e90b7dc"
      },
      "execution_count": 77,
      "outputs": [
        {
          "output_type": "display_data",
          "data": {
            "text/plain": [
              "<Figure size 640x480 with 1 Axes>"
            ],
            "image/png": "[encoded data removed]"
          },
          "metadata": {}
        }
      ]
    },
    {
      "cell_type": "code",
      "source": [
        "import math\n",
        "def rmse(y,y_hat):\n",
        "  y_actual=np.array(y)\n",
        "  y_pred=np.array(y_hat)\n",
        "  error=(y_actual-y_pred)**2\n",
        "  error_mean=round(np.mean(error))\n",
        "  error_sq=math.sqrt(error_mean)\n",
        "  return error_sq"
      ],
      "metadata": {
        "id": "WZDtSMb57DJ8"
      },
      "execution_count": 83,
      "outputs": []
    },
    {
      "cell_type": "code",
      "source": [
        "rmse(b,regLine)"
      ],
      "metadata": {
        "colab": {
          "base_uri": "https://localhost:8080/"
        },
        "id": "Gbs9p8y5AfSl",
        "outputId": "38f7f888-6ca7-412c-bdea-50f2b6f06c42"
      },
      "execution_count": 84,
      "outputs": [
        {
          "output_type": "execute_result",
          "data": {
            "text/plain": [
              "4.58257569495584"
            ]
          },
          "metadata": {},
          "execution_count": 84
        }
      ]
    },
    {
      "cell_type": "code",
      "source": [],
      "metadata": {
        "id": "M1Z_z3EaAmQ_"
      },
      "execution_count": null,
      "outputs": []
    }
  ]
}